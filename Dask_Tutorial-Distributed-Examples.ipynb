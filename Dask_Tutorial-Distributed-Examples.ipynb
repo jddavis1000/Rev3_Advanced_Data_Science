{
 "cells": [
  {
   "cell_type": "markdown",
   "id": "fc1bc82d",
   "metadata": {},
   "source": [
    "### Analysis of Polio Incidences Tutorial\n",
    "\n",
    "This notebook, like the others, uses cpus.  GPUs can be used in pyspark, dask and ray.  See a sepparate tutorial for that approach.  This tutorial is for beginners and uses a small dataset.  You will not see a speed up in wall clock time until at minimum gigabytes of data are being used.\n",
    "\n",
    "In this notebook we use the libraries sklearn and xgboost to perform machine learning.  Our dataset is contains information on the incidence ratios of polio by year starting in 1928.  While a forcasting algorithm may have yielded interesting results, here we use a simple classifier to create a predictor of incidence ratios in our test dataset.  \n",
    "\n",
    "To learn about sklearn and dask, we also use the cannonical scikit learn tutorial on comparison of different regressors (classifiers) on predefined datasets.  After this demonstration we dive into using xgboost and dask.  Finally we use xgboost tree method, 'hist' to create a classifer for our polio data.  Let's get started."
   ]
  },
  {
   "cell_type": "markdown",
   "id": "ffcd7d90",
   "metadata": {},
   "source": [
    "### Setting up the Dask Cluster\n",
    "\n",
    "To set up Dask in local mode (on your laptop, without distributed characteristics), use the code containing the command LocalCluster. To start Dask on a cluster, use either the client code that uses the cluster scheduler address, (which you will need to look up on your Dask Web UI) or the code which contains the automatic look-up for the service host and port.  Let's use the third method.  The other two are commented out."
   ]
  },
  {
   "cell_type": "code",
   "execution_count": 1,
   "id": "598ee90d",
   "metadata": {},
   "outputs": [],
   "source": [
    "## set up the cluster in local mode if desire parallelism only\n",
    "\n",
    "#from dask.distributed import LocalCluster, Client\n",
    "#cluster = LocalCluster(n_workers = 2)\n",
    "#client = Client(cluster)\n",
    "#client"
   ]
  },
  {
   "cell_type": "markdown",
   "id": "54b233f0",
   "metadata": {},
   "source": [
    "Setting up the cluster to run in distributed mode requires that the scheduler is called.  One do so with the code below."
   ]
  },
  {
   "cell_type": "code",
   "execution_count": 25,
   "id": "38305b70",
   "metadata": {},
   "outputs": [
    {
     "data": {
      "text/html": [
       "\n",
       "            <div>\n",
       "                <div style=\"\n",
       "                    width: 24px;\n",
       "                    height: 24px;\n",
       "                    background-color: #e1e1e1;\n",
       "                    border: 3px solid #9D9D9D;\n",
       "                    border-radius: 5px;\n",
       "                    position: absolute;\"> </div>\n",
       "                <div style=\"margin-left: 48px;\">\n",
       "                    <h3 style=\"margin-bottom: 0px;\">Client</h3>\n",
       "                    <p style=\"color: #9D9D9D; margin-bottom: 0px;\">Client-72a8af49-793c-11ec-8160-da15e17a09f3</p>\n",
       "                    <table style=\"width: 100%; text-align: left;\">\n",
       "                    \n",
       "                <tr>\n",
       "                    <td style=\"text-align: left;\"><strong>Connection method:</strong> Direct</td>\n",
       "                    <td style=\"text-align: left;\"></td>\n",
       "                </tr>\n",
       "                \n",
       "                <tr>\n",
       "                    <td style=\"text-align: left;\">\n",
       "                        <strong>Dashboard: </strong>\n",
       "                        <a href=\"http://dask-61e8143c3d51792f465e7f27-dask-scheduler.fieldc272254-compute.svc.cluster.local:8787/status\">http://dask-61e8143c3d51792f465e7f27-dask-scheduler.fieldc272254-compute.svc.cluster.local:8787/status</a>\n",
       "                    </td>\n",
       "                    <td style=\"text-align: left;\"></td>\n",
       "                </tr>\n",
       "                \n",
       "                    </table>\n",
       "                    \n",
       "                <details>\n",
       "                <summary style=\"margin-bottom: 20px;\"><h3 style=\"display: inline;\">Scheduler Info</h3></summary>\n",
       "                \n",
       "        <div style=\"\">\n",
       "            \n",
       "            <div>\n",
       "                <div style=\"\n",
       "                    width: 24px;\n",
       "                    height: 24px;\n",
       "                    background-color: #FFF7E5;\n",
       "                    border: 3px solid #FF6132;\n",
       "                    border-radius: 5px;\n",
       "                    position: absolute;\"> </div>\n",
       "                <div style=\"margin-left: 48px;\">\n",
       "                    <h3 style=\"margin-bottom: 0px;\">Scheduler</h3>\n",
       "                    <p style=\"color: #9D9D9D; margin-bottom: 0px;\">Scheduler-abbd8d1c-413b-4110-8a3e-d3948467a89a</p>\n",
       "                    <table style=\"width: 100%; text-align: left;\">\n",
       "                        <tr>\n",
       "                            <td style=\"text-align: left;\"><strong>Comm:</strong> tcp://10.0.63.2:8786</td>\n",
       "                            <td style=\"text-align: left;\"><strong>Workers:</strong> 4</td>\n",
       "                        </tr>\n",
       "                        <tr>\n",
       "                            <td style=\"text-align: left;\">\n",
       "                                <strong>Dashboard:</strong> <a href=\"http://10.0.63.2:8787/status\">http://10.0.63.2:8787/status</a>\n",
       "                            </td>\n",
       "                            <td style=\"text-align: left;\">\n",
       "                                <strong>Total threads:</strong>\n",
       "                                16\n",
       "                            </td>\n",
       "                        </tr>\n",
       "                        <tr>\n",
       "                            <td style=\"text-align: left;\">\n",
       "                                <strong>Started:</strong>\n",
       "                                1 hour ago\n",
       "                            </td>\n",
       "                            <td style=\"text-align: left;\">\n",
       "                                <strong>Total memory:</strong>\n",
       "                                60.00 GiB\n",
       "                            </td>\n",
       "                        </tr>\n",
       "                    </table>\n",
       "                </div>\n",
       "            </div>\n",
       "        \n",
       "            <details style=\"margin-left: 48px;\">\n",
       "            <summary style=\"margin-bottom: 20px;\"><h3 style=\"display: inline;\">Workers</h3></summary>\n",
       "            \n",
       "            <div style=\"margin-bottom: 20px;\">\n",
       "                <div style=\"width: 24px;\n",
       "                            height: 24px;\n",
       "                            background-color: #DBF5FF;\n",
       "                            border: 3px solid #4CC9FF;\n",
       "                            border-radius: 5px;\n",
       "                            position: absolute;\"> </div>\n",
       "                <div style=\"margin-left: 48px;\">\n",
       "                <details>\n",
       "                    <summary>\n",
       "                        <h4 style=\"margin-bottom: 0px; display: inline;\">Worker: dask-61e8143c3d51792f465e7f27-dask-worker-0</h4>\n",
       "                    </summary>\n",
       "                    <table style=\"width: 100%; text-align: left;\">\n",
       "                        <tr>\n",
       "                            <td style=\"text-align: left;\"><strong>Comm: </strong> tcp://10.0.33.226:3000</td>\n",
       "                            <td style=\"text-align: left;\"><strong>Total threads: </strong> 4</td>\n",
       "                        </tr>\n",
       "                        <tr>\n",
       "                            <td style=\"text-align: left;\">\n",
       "                                <strong>Dashboard: </strong>\n",
       "                                <a href=\"http://10.0.33.226:8787/status\">http://10.0.33.226:8787/status</a>\n",
       "                            </td>\n",
       "                            <td style=\"text-align: left;\">\n",
       "                                <strong>Memory: </strong>\n",
       "                                15.00 GiB\n",
       "                            </td>\n",
       "                        </tr>\n",
       "                        <tr>\n",
       "                            <td style=\"text-align: left;\"><strong>Nanny: </strong> tcp://10.0.33.226:3001</td>\n",
       "                            <td style=\"text-align: left;\"></td>\n",
       "                        </tr>\n",
       "                        <tr>\n",
       "                            <td colspan=\"2\" style=\"text-align: left;\">\n",
       "                                <strong>Local directory: </strong>\n",
       "                                /tmp/dask-worker-space/worker-hkr9ijvp\n",
       "                            </td>\n",
       "                        </tr>\n",
       "                        \n",
       "                        \n",
       "                <tr>\n",
       "                    <td style=\"text-align: left;\">\n",
       "                        <strong>Tasks executing: </strong> 0\n",
       "                    </td>\n",
       "                    <td style=\"text-align: left;\">\n",
       "                        <strong>Tasks in memory: </strong> 0\n",
       "                    </td>\n",
       "                </tr>\n",
       "                <tr>\n",
       "                    <td style=\"text-align: left;\">\n",
       "                        <strong>Tasks ready: </strong> 0\n",
       "                    </td>\n",
       "                    <td style=\"text-align: left;\">\n",
       "                        <strong>Tasks in flight: </strong>0\n",
       "                    </td>\n",
       "                </tr>\n",
       "                <tr>\n",
       "                    <td style=\"text-align: left;\"><strong>CPU usage:</strong> 2.0%</td>\n",
       "                    <td style=\"text-align: left;\">\n",
       "                        <strong>Last seen: </strong>\n",
       "                        Just now\n",
       "                    </td>\n",
       "                </tr>\n",
       "                <tr>\n",
       "                    <td style=\"text-align: left;\">\n",
       "                        <strong>Memory usage: </strong>\n",
       "                        110.71 MiB\n",
       "                    </td>\n",
       "                    <td style=\"text-align: left;\">\n",
       "                        <strong>Spilled bytes: </strong>\n",
       "                        0 B\n",
       "                    </td>\n",
       "                </tr>\n",
       "                <tr>\n",
       "                    <td style=\"text-align: left;\">\n",
       "                        <strong>Read bytes: </strong>\n",
       "                        286.0245496840206 B\n",
       "                    </td>\n",
       "                    <td style=\"text-align: left;\">\n",
       "                        <strong>Write bytes: </strong>\n",
       "                        862.0739924042858 B\n",
       "                    </td>\n",
       "                </tr>\n",
       "                \n",
       "                    </table>\n",
       "                </details>\n",
       "                </div>\n",
       "            </div>\n",
       "            \n",
       "            <div style=\"margin-bottom: 20px;\">\n",
       "                <div style=\"width: 24px;\n",
       "                            height: 24px;\n",
       "                            background-color: #DBF5FF;\n",
       "                            border: 3px solid #4CC9FF;\n",
       "                            border-radius: 5px;\n",
       "                            position: absolute;\"> </div>\n",
       "                <div style=\"margin-left: 48px;\">\n",
       "                <details>\n",
       "                    <summary>\n",
       "                        <h4 style=\"margin-bottom: 0px; display: inline;\">Worker: dask-61e8143c3d51792f465e7f27-dask-worker-1</h4>\n",
       "                    </summary>\n",
       "                    <table style=\"width: 100%; text-align: left;\">\n",
       "                        <tr>\n",
       "                            <td style=\"text-align: left;\"><strong>Comm: </strong> tcp://10.0.45.12:3000</td>\n",
       "                            <td style=\"text-align: left;\"><strong>Total threads: </strong> 4</td>\n",
       "                        </tr>\n",
       "                        <tr>\n",
       "                            <td style=\"text-align: left;\">\n",
       "                                <strong>Dashboard: </strong>\n",
       "                                <a href=\"http://10.0.45.12:8787/status\">http://10.0.45.12:8787/status</a>\n",
       "                            </td>\n",
       "                            <td style=\"text-align: left;\">\n",
       "                                <strong>Memory: </strong>\n",
       "                                15.00 GiB\n",
       "                            </td>\n",
       "                        </tr>\n",
       "                        <tr>\n",
       "                            <td style=\"text-align: left;\"><strong>Nanny: </strong> tcp://10.0.45.12:3001</td>\n",
       "                            <td style=\"text-align: left;\"></td>\n",
       "                        </tr>\n",
       "                        <tr>\n",
       "                            <td colspan=\"2\" style=\"text-align: left;\">\n",
       "                                <strong>Local directory: </strong>\n",
       "                                /tmp/dask-worker-space/worker-ideug6ye\n",
       "                            </td>\n",
       "                        </tr>\n",
       "                        \n",
       "                        \n",
       "                <tr>\n",
       "                    <td style=\"text-align: left;\">\n",
       "                        <strong>Tasks executing: </strong> 0\n",
       "                    </td>\n",
       "                    <td style=\"text-align: left;\">\n",
       "                        <strong>Tasks in memory: </strong> 0\n",
       "                    </td>\n",
       "                </tr>\n",
       "                <tr>\n",
       "                    <td style=\"text-align: left;\">\n",
       "                        <strong>Tasks ready: </strong> 0\n",
       "                    </td>\n",
       "                    <td style=\"text-align: left;\">\n",
       "                        <strong>Tasks in flight: </strong>0\n",
       "                    </td>\n",
       "                </tr>\n",
       "                <tr>\n",
       "                    <td style=\"text-align: left;\"><strong>CPU usage:</strong> 0.0%</td>\n",
       "                    <td style=\"text-align: left;\">\n",
       "                        <strong>Last seen: </strong>\n",
       "                        Just now\n",
       "                    </td>\n",
       "                </tr>\n",
       "                <tr>\n",
       "                    <td style=\"text-align: left;\">\n",
       "                        <strong>Memory usage: </strong>\n",
       "                        108.89 MiB\n",
       "                    </td>\n",
       "                    <td style=\"text-align: left;\">\n",
       "                        <strong>Spilled bytes: </strong>\n",
       "                        0 B\n",
       "                    </td>\n",
       "                </tr>\n",
       "                <tr>\n",
       "                    <td style=\"text-align: left;\">\n",
       "                        <strong>Read bytes: </strong>\n",
       "                        285.90947537820284 B\n",
       "                    </td>\n",
       "                    <td style=\"text-align: left;\">\n",
       "                        <strong>Write bytes: </strong>\n",
       "                        1.55 kiB\n",
       "                    </td>\n",
       "                </tr>\n",
       "                \n",
       "                    </table>\n",
       "                </details>\n",
       "                </div>\n",
       "            </div>\n",
       "            \n",
       "            <div style=\"margin-bottom: 20px;\">\n",
       "                <div style=\"width: 24px;\n",
       "                            height: 24px;\n",
       "                            background-color: #DBF5FF;\n",
       "                            border: 3px solid #4CC9FF;\n",
       "                            border-radius: 5px;\n",
       "                            position: absolute;\"> </div>\n",
       "                <div style=\"margin-left: 48px;\">\n",
       "                <details>\n",
       "                    <summary>\n",
       "                        <h4 style=\"margin-bottom: 0px; display: inline;\">Worker: dask-61e8143c3d51792f465e7f27-dask-worker-2</h4>\n",
       "                    </summary>\n",
       "                    <table style=\"width: 100%; text-align: left;\">\n",
       "                        <tr>\n",
       "                            <td style=\"text-align: left;\"><strong>Comm: </strong> tcp://10.0.40.36:3000</td>\n",
       "                            <td style=\"text-align: left;\"><strong>Total threads: </strong> 4</td>\n",
       "                        </tr>\n",
       "                        <tr>\n",
       "                            <td style=\"text-align: left;\">\n",
       "                                <strong>Dashboard: </strong>\n",
       "                                <a href=\"http://10.0.40.36:8787/status\">http://10.0.40.36:8787/status</a>\n",
       "                            </td>\n",
       "                            <td style=\"text-align: left;\">\n",
       "                                <strong>Memory: </strong>\n",
       "                                15.00 GiB\n",
       "                            </td>\n",
       "                        </tr>\n",
       "                        <tr>\n",
       "                            <td style=\"text-align: left;\"><strong>Nanny: </strong> tcp://10.0.40.36:3001</td>\n",
       "                            <td style=\"text-align: left;\"></td>\n",
       "                        </tr>\n",
       "                        <tr>\n",
       "                            <td colspan=\"2\" style=\"text-align: left;\">\n",
       "                                <strong>Local directory: </strong>\n",
       "                                /tmp/dask-worker-space/worker-hyerieg_\n",
       "                            </td>\n",
       "                        </tr>\n",
       "                        \n",
       "                        \n",
       "                <tr>\n",
       "                    <td style=\"text-align: left;\">\n",
       "                        <strong>Tasks executing: </strong> 0\n",
       "                    </td>\n",
       "                    <td style=\"text-align: left;\">\n",
       "                        <strong>Tasks in memory: </strong> 0\n",
       "                    </td>\n",
       "                </tr>\n",
       "                <tr>\n",
       "                    <td style=\"text-align: left;\">\n",
       "                        <strong>Tasks ready: </strong> 0\n",
       "                    </td>\n",
       "                    <td style=\"text-align: left;\">\n",
       "                        <strong>Tasks in flight: </strong>0\n",
       "                    </td>\n",
       "                </tr>\n",
       "                <tr>\n",
       "                    <td style=\"text-align: left;\"><strong>CPU usage:</strong> 0.0%</td>\n",
       "                    <td style=\"text-align: left;\">\n",
       "                        <strong>Last seen: </strong>\n",
       "                        Just now\n",
       "                    </td>\n",
       "                </tr>\n",
       "                <tr>\n",
       "                    <td style=\"text-align: left;\">\n",
       "                        <strong>Memory usage: </strong>\n",
       "                        110.72 MiB\n",
       "                    </td>\n",
       "                    <td style=\"text-align: left;\">\n",
       "                        <strong>Spilled bytes: </strong>\n",
       "                        0 B\n",
       "                    </td>\n",
       "                </tr>\n",
       "                <tr>\n",
       "                    <td style=\"text-align: left;\">\n",
       "                        <strong>Read bytes: </strong>\n",
       "                        286.079938337262 B\n",
       "                    </td>\n",
       "                    <td style=\"text-align: left;\">\n",
       "                        <strong>Write bytes: </strong>\n",
       "                        860.2403740211374 B\n",
       "                    </td>\n",
       "                </tr>\n",
       "                \n",
       "                    </table>\n",
       "                </details>\n",
       "                </div>\n",
       "            </div>\n",
       "            \n",
       "            <div style=\"margin-bottom: 20px;\">\n",
       "                <div style=\"width: 24px;\n",
       "                            height: 24px;\n",
       "                            background-color: #DBF5FF;\n",
       "                            border: 3px solid #4CC9FF;\n",
       "                            border-radius: 5px;\n",
       "                            position: absolute;\"> </div>\n",
       "                <div style=\"margin-left: 48px;\">\n",
       "                <details>\n",
       "                    <summary>\n",
       "                        <h4 style=\"margin-bottom: 0px; display: inline;\">Worker: dask-61e8143c3d51792f465e7f27-dask-worker-3</h4>\n",
       "                    </summary>\n",
       "                    <table style=\"width: 100%; text-align: left;\">\n",
       "                        <tr>\n",
       "                            <td style=\"text-align: left;\"><strong>Comm: </strong> tcp://10.0.38.38:3000</td>\n",
       "                            <td style=\"text-align: left;\"><strong>Total threads: </strong> 4</td>\n",
       "                        </tr>\n",
       "                        <tr>\n",
       "                            <td style=\"text-align: left;\">\n",
       "                                <strong>Dashboard: </strong>\n",
       "                                <a href=\"http://10.0.38.38:8787/status\">http://10.0.38.38:8787/status</a>\n",
       "                            </td>\n",
       "                            <td style=\"text-align: left;\">\n",
       "                                <strong>Memory: </strong>\n",
       "                                15.00 GiB\n",
       "                            </td>\n",
       "                        </tr>\n",
       "                        <tr>\n",
       "                            <td style=\"text-align: left;\"><strong>Nanny: </strong> tcp://10.0.38.38:3001</td>\n",
       "                            <td style=\"text-align: left;\"></td>\n",
       "                        </tr>\n",
       "                        <tr>\n",
       "                            <td colspan=\"2\" style=\"text-align: left;\">\n",
       "                                <strong>Local directory: </strong>\n",
       "                                /tmp/dask-worker-space/worker-9sbdkulo\n",
       "                            </td>\n",
       "                        </tr>\n",
       "                        \n",
       "                        \n",
       "                <tr>\n",
       "                    <td style=\"text-align: left;\">\n",
       "                        <strong>Tasks executing: </strong> 0\n",
       "                    </td>\n",
       "                    <td style=\"text-align: left;\">\n",
       "                        <strong>Tasks in memory: </strong> 0\n",
       "                    </td>\n",
       "                </tr>\n",
       "                <tr>\n",
       "                    <td style=\"text-align: left;\">\n",
       "                        <strong>Tasks ready: </strong> 0\n",
       "                    </td>\n",
       "                    <td style=\"text-align: left;\">\n",
       "                        <strong>Tasks in flight: </strong>0\n",
       "                    </td>\n",
       "                </tr>\n",
       "                <tr>\n",
       "                    <td style=\"text-align: left;\"><strong>CPU usage:</strong> 0.0%</td>\n",
       "                    <td style=\"text-align: left;\">\n",
       "                        <strong>Last seen: </strong>\n",
       "                        Just now\n",
       "                    </td>\n",
       "                </tr>\n",
       "                <tr>\n",
       "                    <td style=\"text-align: left;\">\n",
       "                        <strong>Memory usage: </strong>\n",
       "                        111.61 MiB\n",
       "                    </td>\n",
       "                    <td style=\"text-align: left;\">\n",
       "                        <strong>Spilled bytes: </strong>\n",
       "                        0 B\n",
       "                    </td>\n",
       "                </tr>\n",
       "                <tr>\n",
       "                    <td style=\"text-align: left;\">\n",
       "                        <strong>Read bytes: </strong>\n",
       "                        286.04787578792644 B\n",
       "                    </td>\n",
       "                    <td style=\"text-align: left;\">\n",
       "                        <strong>Write bytes: </strong>\n",
       "                        1.55 kiB\n",
       "                    </td>\n",
       "                </tr>\n",
       "                \n",
       "                    </table>\n",
       "                </details>\n",
       "                </div>\n",
       "            </div>\n",
       "            \n",
       "            </details>\n",
       "        </div>\n",
       "        \n",
       "                </details>\n",
       "                \n",
       "                </div>\n",
       "            </div>\n",
       "        "
      ],
      "text/plain": [
       "<Client: 'tcp://10.0.63.2:8786' processes=4 threads=16, memory=60.00 GiB>"
      ]
     },
     "execution_count": 25,
     "metadata": {},
     "output_type": "execute_result"
    }
   ],
   "source": [
    "from dask.distributed import Client\n",
    "import os\n",
    "\n",
    "service_host = os.environ[\"DASK_SCHEDULER_SERVICE_HOST\"]\n",
    "service_port = os.environ[\"DASK_SCHEDULER_SERVICE_PORT\"]\n",
    "client = Client(f\"{service_host}:{service_port}\")\n",
    "\n",
    "# look at the client and scheduler\n",
    "\n",
    "client\n",
    "\n",
    "# you should now be connected to the cluster\n",
    "# Dashboard link from the client object is clickable but will not route in Domino\n",
    "# Use the embedded Dask Web UI tab instead"
   ]
  },
  {
   "cell_type": "markdown",
   "id": "ccdb85b5",
   "metadata": {},
   "source": [
    "### What can Dask do?\n",
    "\n",
    "Dask is a distributed computing api that excels at machine learning at scale.  We can see that user CPU times are greatly reduced even on a small task like calculating pi.  However wall-clock time (the amount of time that passes by as we experienced it) does not get reduced until the data is large.  When data is so large that it will not fit onto a single node, Dask can still do its job.  This follows the old adage, don't distribute until you need to do so because you won't notice much of a speed-up in time for small tasks.\n",
    "\n",
    "Let's look at calculating pi to see what what is going on here. \n",
    "\n",
    "First we'll import the libraries we need."
   ]
  },
  {
   "cell_type": "code",
   "execution_count": 3,
   "id": "1c9fef6e",
   "metadata": {},
   "outputs": [],
   "source": [
    "import dask\n",
    "import dask.array as da\n",
    "import numpy as np\n",
    "import dask.dataframe as dd\n",
    "import pandas as pd\n",
    "import time\n",
    "import seaborn as sn"
   ]
  },
  {
   "cell_type": "markdown",
   "id": "8f3a80d0",
   "metadata": {},
   "source": [
    "### Calculating Pi without and with using Dask: Watch for how the Code Is Written\n",
    "\n",
    "Let's calculate pi without using Dask and see how long it takes for the cpu (pay attention to total cpu time), the user and the wall-clock time.  This is showing why dask code needs to be written correctly.  "
   ]
  },
  {
   "cell_type": "code",
   "execution_count": 4,
   "id": "2609c6b5",
   "metadata": {},
   "outputs": [],
   "source": [
    "import time\n",
    "## compute pi without Dask - WIP - doesn't seem to be available\n",
    "\n",
    "def pi(N):\n",
    "    time.sleep(10)\n",
    "\n",
    "    # Initialize denominator\n",
    "    k = 1\n",
    "\n",
    "    # Initialize sum\n",
    "    s = 0\n",
    "\n",
    "    for i in range(N):\n",
    "\n",
    "        # even index elements are positive\n",
    "            if i % 2 == 0:\n",
    "                s += 4/k\n",
    "            else:\n",
    "                s -= 4/k\n",
    "\n",
    "        # denominator is odd\n",
    "            k += 2\n",
    "    return s\n"
   ]
  },
  {
   "cell_type": "code",
   "execution_count": 5,
   "id": "d8f41d05",
   "metadata": {},
   "outputs": [
    {
     "name": "stdout",
     "output_type": "stream",
     "text": [
      "CPU times: user 1.19 s, sys: 0 ns, total: 1.19 s\n",
      "Wall time: 11.2 s\n"
     ]
    },
    {
     "data": {
      "text/plain": [
       "3.1415925535897915"
      ]
     },
     "execution_count": 5,
     "metadata": {},
     "output_type": "execute_result"
    }
   ],
   "source": [
    "%%time\n",
    "pi(10**7)"
   ]
  },
  {
   "cell_type": "markdown",
   "id": "ad6d005c",
   "metadata": {},
   "source": [
    "### Calculating Pi Using Dask the Wrong Way\n",
    "\n",
    "To calculate pi using dask, we can use the decorator function @dask.delayed or just delayed and the compute function to retrieve the output of our pi calculation. We can also use the client function to compute pi.  The delayed function will run tasks in parallel and is especially helpful for custom algorithms.  The client function will run dasks in parallel and distribute them in the cluster.  Although in the example below all of our code runs, and we call the right functions, this is not the most effective way to write code for dask.\n",
    "\n",
    "Take a close look at the total cpu time and total wall clock time.  The CPU time is at many times less when using Dask, but the wall clock time is the same.  What do you think is wrong with the code in this procedure?  Why doesn't the wall-clock time improve? Hint: Is Dask creating a 'future calculation' that is performed once the function is actually called?  In otherwords at runtime calculation?"
   ]
  },
  {
   "cell_type": "code",
   "execution_count": 6,
   "id": "d5a6748c",
   "metadata": {},
   "outputs": [],
   "source": [
    "import time\n",
    "## compute pi without Dask - WIP - doesn't seem to be available\n",
    "\n",
    "\n",
    "def pi(N):\n",
    "    time.sleep(10)\n",
    "\n",
    "    # Initialize denominator\n",
    "    k = 1\n",
    "\n",
    "    # Initialize sum\n",
    "    s = 0\n",
    "\n",
    "    for i in range(N):\n",
    "\n",
    "        # even index elements are positive\n",
    "            if i % 2 == 0:\n",
    "                s += 4/k\n",
    "            else:\n",
    "                s -= 4/k\n",
    "\n",
    "        # denominator is odd\n",
    "            k += 2\n",
    "    return s\n"
   ]
  },
  {
   "cell_type": "code",
   "execution_count": 7,
   "id": "a23fcb32",
   "metadata": {},
   "outputs": [
    {
     "name": "stdout",
     "output_type": "stream",
     "text": [
      "3.1415925535897915\n",
      "CPU times: user 7.33 ms, sys: 3.67 ms, total: 11 ms\n",
      "Wall time: 11.3 s\n"
     ]
    }
   ],
   "source": [
    "%%time\n",
    "\n",
    "pi_client = client.submit(pi, 10**7)\n",
    "pi_client = pi_client.result()\n",
    "print(pi_client)"
   ]
  },
  {
   "cell_type": "code",
   "execution_count": 8,
   "id": "343ef40d",
   "metadata": {},
   "outputs": [
    {
     "name": "stdout",
     "output_type": "stream",
     "text": [
      "CPU times: user 11.6 ms, sys: 64 µs, total: 11.7 ms\n",
      "Wall time: 11.2 s\n"
     ]
    },
    {
     "data": {
      "text/plain": [
       "3.1415925535897915"
      ]
     },
     "execution_count": 8,
     "metadata": {},
     "output_type": "execute_result"
    }
   ],
   "source": [
    "%%time\n",
    "\n",
    "from dask import delayed\n",
    "\n",
    "pi = delayed(pi)(10**7)\n",
    "pi.compute()"
   ]
  },
  {
   "cell_type": "markdown",
   "id": "39be91c6",
   "metadata": {},
   "source": [
    "So we can see above that the fast calculations happen when calling pi with or without Dask (using the delayed or submit methods) with a wall-clock time is about 11 seconds.  What's the problem here?  Why isn't Dask making the code run faster?"
   ]
  },
  {
   "cell_type": "markdown",
   "id": "542520cd",
   "metadata": {},
   "source": [
    "### Speeding up the calculation of Pi, we need to write the code so it can be parallelized or distributed.  See example below.\n",
    "\n",
    "Here we create a function that can be run with only using only 1 term at a time, a iterating over a list and a single calculation (sum function).  This function of pi will run in parallel on Dask.  You will notice an immediate time improvement.  You'll notice that a single task is given in the routine which takes in a single term.  This is not the only way to parallelize a function, but in this case it is effective because it breaks larger tasks into smaller ones that can be run in parallel. In the code below you see how calculate pi in three ways, two of which use Dask.  The methods we show are correct and work:\n",
    "\n",
    "- without Dask\n",
    "\n",
    "- with paralellism and using futures (```delay``` function)\n",
    "\n",
    "- with paralellism and distributed on the cluster (```client``` function)\n",
    "\n",
    "Which way is fastest?  Why do you think so?  Hint: using the client function will distribute tasks over a cluster."
   ]
  },
  {
   "cell_type": "code",
   "execution_count": 9,
   "id": "ec5bafb9",
   "metadata": {},
   "outputs": [],
   "source": [
    "import time\n",
    "\n",
    "def pi_single_term(i):\n",
    "    time.sleep(0.01)\n",
    "    # denominator is odd\n",
    "    k = 2*i + 1\n",
    "    # even index elements are positive\n",
    "    if i % 2 == 0:\n",
    "        x = 4/k\n",
    "    # odd index elements are negative    \n",
    "    else:\n",
    "        x = - 4/k\n",
    "    return x"
   ]
  },
  {
   "cell_type": "code",
   "execution_count": 10,
   "id": "e5b86040",
   "metadata": {},
   "outputs": [
    {
     "name": "stdout",
     "output_type": "stream",
     "text": [
      "CPU times: user 13.5 ms, sys: 3.4 ms, total: 16.9 ms\n",
      "Wall time: 10.1 s\n"
     ]
    },
    {
     "data": {
      "text/plain": [
       "3.140592653839794"
      ]
     },
     "execution_count": 10,
     "metadata": {},
     "output_type": "execute_result"
    }
   ],
   "source": [
    "%%time\n",
    "## compute pi without Dask\n",
    "s = []\n",
    "for i in range(10**3):\n",
    "    s.append(pi_single_term(i))\n",
    "sum(s)"
   ]
  },
  {
   "cell_type": "code",
   "execution_count": 11,
   "id": "2d08715d",
   "metadata": {},
   "outputs": [
    {
     "name": "stdout",
     "output_type": "stream",
     "text": [
      "CPU times: user 77.9 ms, sys: 19 ms, total: 96.9 ms\n",
      "Wall time: 984 ms\n"
     ]
    },
    {
     "data": {
      "text/plain": [
       "3.140592653839794"
      ]
     },
     "execution_count": 11,
     "metadata": {},
     "output_type": "execute_result"
    }
   ],
   "source": [
    "%%time\n",
    "## compute pi with Dask using Delayed\n",
    "\n",
    "s = []\n",
    "for i in range(10**3):\n",
    "    s.append(dask.delayed(pi_single_term)(i))\n",
    "dask.delayed(sum)(s).compute()"
   ]
  },
  {
   "cell_type": "code",
   "execution_count": 12,
   "id": "1e0119f6",
   "metadata": {},
   "outputs": [
    {
     "name": "stdout",
     "output_type": "stream",
     "text": [
      "CPU times: user 167 ms, sys: 10.1 ms, total: 177 ms\n",
      "Wall time: 896 ms\n"
     ]
    },
    {
     "data": {
      "text/plain": [
       "3.140592653839794"
      ]
     },
     "execution_count": 12,
     "metadata": {},
     "output_type": "execute_result"
    }
   ],
   "source": [
    "%%time\n",
    "## compute pi with Dask using Client\n",
    "\n",
    "s=[]\n",
    "for i in range(10**3):\n",
    "    s.append(client.submit(pi_single_term, i))\n",
    "client.submit(sum, s).result()"
   ]
  },
  {
   "cell_type": "markdown",
   "id": "445e8817",
   "metadata": {},
   "source": [
    "### There is more than one way to call a Dask function.\n",
    "\n",
    "Below are two examples of how to call a dask function.  The first uses @dask.delayed (lazy loading) and the second uses the Dask client (distributing over a cluster).  Either will be useful for work in different contexts.  When doing very large calculations on very large data, using the cluster will give the best performance improvement.  As a reminder:\n",
    "\n",
    "- dask.delayed works with the decorator delayed or using delayed in front of the function\n",
    "- dask uses the client function to submit jobs to the cluster\n",
    "- both methods use parallelism\n",
    "- the client function uses distributed computing over a cluster\n",
    "- both functions will speed up the code if the code is written correctly (use small tasks and parallelize and distribute the workload among workers)"
   ]
  },
  {
   "cell_type": "markdown",
   "id": "91532bb3",
   "metadata": {},
   "source": [
    "With ```dask.delayed```, we get a future that is not called until compute is used.  So the future can be sent to a local or distributed cluster, but the calculation does not occur until the cluster is told to do the computation using ```.compute```.  This is why dask.delayed will often be very slightly longer than using the ```client.result()``` method."
   ]
  },
  {
   "cell_type": "code",
   "execution_count": 46,
   "id": "3e6f2ede",
   "metadata": {},
   "outputs": [
    {
     "name": "stdout",
     "output_type": "stream",
     "text": [
      "5\n",
      "CPU times: user 10.5 ms, sys: 0 ns, total: 10.5 ms\n",
      "Wall time: 18.6 ms\n"
     ]
    }
   ],
   "source": [
    "%%time\n",
    "\n",
    "import dask\n",
    "\n",
    "@dask.delayed\n",
    "def inc(x):\n",
    "   return x + 1\n",
    "\n",
    "@dask.delayed\n",
    "def add(x, y):\n",
    "   return x + y\n",
    "\n",
    "a = inc(1)       # no work has happened yet\n",
    "b = inc(2)       # no work has happened yet\n",
    "c = add(a, b)    # no work has happened yet\n",
    "c = c.compute()  # work starts and finishes\n",
    "print(c)"
   ]
  },
  {
   "cell_type": "markdown",
   "id": "4eb0bbe2",
   "metadata": {},
   "source": [
    "When we use ```client.result().submit``` we are both creating a future for the cluster to compute and telling the cluster to make the computation at the same time.  Thus it will be slightly faster most times compared to ```dask.delayed().compute``` which uses futures.  The difference is nominal in most cases."
   ]
  },
  {
   "cell_type": "code",
   "execution_count": 47,
   "id": "b6f34690",
   "metadata": {},
   "outputs": [
    {
     "name": "stdout",
     "output_type": "stream",
     "text": [
      "5\n",
      "CPU times: user 4.71 ms, sys: 5.34 ms, total: 10 ms\n",
      "Wall time: 20.6 ms\n"
     ]
    }
   ],
   "source": [
    "%%time \n",
    "from dask.distributed import Client\n",
    "\n",
    "#client = Client() - if wish to run in local mode for parallelism only\n",
    "\n",
    "def inc(x):\n",
    "   return x + 1\n",
    "\n",
    "def add(x, y):\n",
    "   return x + y\n",
    "\n",
    "a = client.submit(inc, 1)     # work starts immediately\n",
    "b = client.submit(inc, 2)     # work starts immediately\n",
    "c = client.submit(add, a, b)  # work starts immediately\n",
    "c = c.result()\n",
    "print(c)"
   ]
  },
  {
   "cell_type": "markdown",
   "id": "e38a9894",
   "metadata": {},
   "source": [
    "### Dask can be faster using Parallelism with Distributed Compute and Multiple Terms\n",
    "\n",
    "The delayed function or delayed function decorator and client functions can speed up some computations that rely upon one another. See the example below for an instance in which wall-clock time is speed up through parallelizing the code using either the delayed function or the client function.  Notice that each function has one output, and each function has one task.  If we made one function that did all the tasks of inc and add together, it would not paralllize the code as written.  Dask might seem tricky, but writing code with smaller tasks in a larger computation, will make it possible to parallelize the tasks over many workers."
   ]
  },
  {
   "cell_type": "code",
   "execution_count": 48,
   "id": "1dc7787e",
   "metadata": {},
   "outputs": [],
   "source": [
    "# notice we have one function for adding and one for subtracting; not a function for both\n",
    "\n",
    "from time import sleep\n",
    "\n",
    "def inc(x):\n",
    "    sleep(1)\n",
    "    return x + 1\n",
    "\n",
    "def add(x, y):\n",
    "    sleep(1)\n",
    "    return x + y"
   ]
  },
  {
   "cell_type": "code",
   "execution_count": 49,
   "id": "b65ea0d6",
   "metadata": {},
   "outputs": [
    {
     "name": "stdout",
     "output_type": "stream",
     "text": [
      "CPU times: user 62.6 ms, sys: 12.8 ms, total: 75.3 ms\n",
      "Wall time: 3 s\n"
     ]
    },
    {
     "data": {
      "text/plain": [
       "5"
      ]
     },
     "execution_count": 49,
     "metadata": {},
     "output_type": "execute_result"
    }
   ],
   "source": [
    "%%time\n",
    "# This takes three seconds to run because we call each\n",
    "# function sequentially, one after the other\n",
    "\n",
    "x = inc(1)\n",
    "y = inc(2)\n",
    "z = add(x, y)\n",
    "z"
   ]
  },
  {
   "cell_type": "code",
   "execution_count": 50,
   "id": "1251fb68",
   "metadata": {},
   "outputs": [
    {
     "name": "stdout",
     "output_type": "stream",
     "text": [
      "CPU times: user 51.3 ms, sys: 1.75 ms, total: 53.1 ms\n",
      "Wall time: 2.01 s\n"
     ]
    },
    {
     "data": {
      "text/plain": [
       "5"
      ]
     },
     "execution_count": 50,
     "metadata": {},
     "output_type": "execute_result"
    }
   ],
   "source": [
    "%%time\n",
    "from dask import delayed\n",
    "# This runs faster because it uses parallelism\n",
    "\n",
    "x = delayed(inc)(1)\n",
    "y = delayed(inc)(2)\n",
    "z = delayed(add)(x, y)\n",
    "z.compute()"
   ]
  },
  {
   "cell_type": "code",
   "execution_count": 51,
   "id": "ab6a4c9b",
   "metadata": {},
   "outputs": [
    {
     "name": "stdout",
     "output_type": "stream",
     "text": [
      "CPU times: user 59.8 ms, sys: 752 µs, total: 60.5 ms\n",
      "Wall time: 2.02 s\n"
     ]
    },
    {
     "data": {
      "text/plain": [
       "5"
      ]
     },
     "execution_count": 51,
     "metadata": {},
     "output_type": "execute_result"
    }
   ],
   "source": [
    "%%time\n",
    "\n",
    "x = client.submit(inc, 1)\n",
    "y = client.submit(inc, 2)\n",
    "z = client.submit(add, x, y)\n",
    "z.result()"
   ]
  },
  {
   "cell_type": "markdown",
   "id": "08ea6c91",
   "metadata": {},
   "source": [
    "### Using Pandas-like Functions with Dask Dataframes\n",
    "\n",
    "Below are two examples of reading in and a quick analysis of the polio dataset.  Notice that there is practically no syntax change between using Pandas and dask.  The main difference is whether a pandas data frame or a dask dataframe is used.  A Dask dataframe is set up so that data can be distributed among workers.  Pandas dataframes do not do such functions in their native state."
   ]
  },
  {
   "cell_type": "code",
   "execution_count": 19,
   "id": "c82f84de",
   "metadata": {},
   "outputs": [
    {
     "name": "stdout",
     "output_type": "stream",
     "text": [
      "state  incidence_ratio\n",
      "DE     0.00               1072\n",
      "WY     0.00               1043\n",
      "UT     0.00                949\n",
      "MT     0.00                940\n",
      "ID     0.00                940\n",
      "                          ... \n",
      "KY     1.14                  1\n",
      "       1.13                  1\n",
      "       1.06                  1\n",
      "       1.05                  1\n",
      "WY     8.93                  1\n",
      "Name: incidence_ratio, Length: 6939, dtype: int64\n"
     ]
    }
   ],
   "source": [
    "import pandas as pd\n",
    "\n",
    "df = pd.read_csv(\"/domino/datasets/local/polioData/polioData.csv\")\n",
    "\n",
    "def get_counts(df):\n",
    "    by_state = df.groupby(\"state\")\n",
    "    incidence = by_state[\"incidence_ratio\"]\n",
    "    return incidence.value_counts()\n",
    "\n",
    "result = get_counts(df)\n",
    "result.sort_values(ascending=False, inplace=True)\n",
    "\n",
    "print(result)"
   ]
  },
  {
   "cell_type": "code",
   "execution_count": 20,
   "id": "c154a1ed",
   "metadata": {},
   "outputs": [
    {
     "name": "stdout",
     "output_type": "stream",
     "text": [
      "state  incidence_ratio\n",
      "DE     0.00               1072\n",
      "WY     0.00               1043\n",
      "UT     0.00                949\n",
      "ID     0.00                940\n",
      "MT     0.00                940\n",
      "                          ... \n",
      "KY     1.19                  1\n",
      "       1.18                  1\n",
      "       1.14                  1\n",
      "       1.13                  1\n",
      "WY     8.93                  1\n",
      "Name: incidence_ratio, Length: 6939, dtype: int64\n"
     ]
    }
   ],
   "source": [
    "import dask.dataframe as dd\n",
    "\n",
    "dd = dd.read_csv(\"/domino/datasets/local/polioData/polioData.csv\")\n",
    "\n",
    "def get_counts(df):\n",
    "    by_state = df.groupby(\"state\")\n",
    "    incidence = by_state[\"incidence_ratio\"]\n",
    "    return incidence.value_counts()\n",
    "\n",
    "result = get_counts(dd)\n",
    "result = result.compute(num_workers=4)\n",
    "result.sort_values(ascending=False, inplace=True)\n",
    "\n",
    "print(result)"
   ]
  },
  {
   "cell_type": "markdown",
   "id": "47419abf",
   "metadata": {},
   "source": [
    "### Working with Dataframes and Doing Simple Data Analytics: Dask has Pandas-like Syntax and Functions"
   ]
  },
  {
   "cell_type": "markdown",
   "id": "47073dec",
   "metadata": {},
   "source": [
    "Let's take a look at an analysis using pandas and dask.  We will read in the dataframes in both.  You will see a familiar pattern if you've taken the spark tutorial (pyspark or sparklyR).  We're in fact doing the same processes we did in spark in dask."
   ]
  },
  {
   "cell_type": "code",
   "execution_count": 21,
   "id": "4f12f90b",
   "metadata": {},
   "outputs": [
    {
     "data": {
      "text/html": [
       "<div>\n",
       "<style scoped>\n",
       "    .dataframe tbody tr th:only-of-type {\n",
       "        vertical-align: middle;\n",
       "    }\n",
       "\n",
       "    .dataframe tbody tr th {\n",
       "        vertical-align: top;\n",
       "    }\n",
       "\n",
       "    .dataframe thead th {\n",
       "        text-align: right;\n",
       "    }\n",
       "</style>\n",
       "<table border=\"1\" class=\"dataframe\">\n",
       "  <thead>\n",
       "    <tr style=\"text-align: right;\">\n",
       "      <th></th>\n",
       "      <th>year</th>\n",
       "      <th>week</th>\n",
       "      <th>region</th>\n",
       "      <th>loc</th>\n",
       "      <th>state</th>\n",
       "      <th>number</th>\n",
       "      <th>population</th>\n",
       "      <th>incidence_ratio</th>\n",
       "    </tr>\n",
       "  </thead>\n",
       "  <tbody>\n",
       "    <tr>\n",
       "      <th>0</th>\n",
       "      <td>1928</td>\n",
       "      <td>1</td>\n",
       "      <td>South</td>\n",
       "      <td>2</td>\n",
       "      <td>AL</td>\n",
       "      <td>0.0</td>\n",
       "      <td>2640000</td>\n",
       "      <td>0.00</td>\n",
       "    </tr>\n",
       "    <tr>\n",
       "      <th>1</th>\n",
       "      <td>1928</td>\n",
       "      <td>2</td>\n",
       "      <td>South</td>\n",
       "      <td>2</td>\n",
       "      <td>AL</td>\n",
       "      <td>0.0</td>\n",
       "      <td>2640000</td>\n",
       "      <td>0.00</td>\n",
       "    </tr>\n",
       "    <tr>\n",
       "      <th>2</th>\n",
       "      <td>1928</td>\n",
       "      <td>3</td>\n",
       "      <td>South</td>\n",
       "      <td>2</td>\n",
       "      <td>AL</td>\n",
       "      <td>1.0</td>\n",
       "      <td>2640000</td>\n",
       "      <td>0.04</td>\n",
       "    </tr>\n",
       "    <tr>\n",
       "      <th>3</th>\n",
       "      <td>1928</td>\n",
       "      <td>4</td>\n",
       "      <td>South</td>\n",
       "      <td>2</td>\n",
       "      <td>AL</td>\n",
       "      <td>0.0</td>\n",
       "      <td>2640000</td>\n",
       "      <td>0.00</td>\n",
       "    </tr>\n",
       "    <tr>\n",
       "      <th>4</th>\n",
       "      <td>1928</td>\n",
       "      <td>5</td>\n",
       "      <td>South</td>\n",
       "      <td>2</td>\n",
       "      <td>AL</td>\n",
       "      <td>0.0</td>\n",
       "      <td>2640000</td>\n",
       "      <td>0.00</td>\n",
       "    </tr>\n",
       "  </tbody>\n",
       "</table>\n",
       "</div>"
      ],
      "text/plain": [
       "   year  week region  loc state  number  population  incidence_ratio\n",
       "0  1928     1  South    2    AL     0.0     2640000             0.00\n",
       "1  1928     2  South    2    AL     0.0     2640000             0.00\n",
       "2  1928     3  South    2    AL     1.0     2640000             0.04\n",
       "3  1928     4  South    2    AL     0.0     2640000             0.00\n",
       "4  1928     5  South    2    AL     0.0     2640000             0.00"
      ]
     },
     "execution_count": 21,
     "metadata": {},
     "output_type": "execute_result"
    }
   ],
   "source": [
    "df = pd.read_csv('/domino/datasets/local/polioData/polioData.csv', header=0)\n",
    "df.head()"
   ]
  },
  {
   "cell_type": "code",
   "execution_count": 22,
   "id": "18a5a2d8",
   "metadata": {},
   "outputs": [
    {
     "data": {
      "text/html": [
       "<div>\n",
       "<style scoped>\n",
       "    .dataframe tbody tr th:only-of-type {\n",
       "        vertical-align: middle;\n",
       "    }\n",
       "\n",
       "    .dataframe tbody tr th {\n",
       "        vertical-align: top;\n",
       "    }\n",
       "\n",
       "    .dataframe thead th {\n",
       "        text-align: right;\n",
       "    }\n",
       "</style>\n",
       "<table border=\"1\" class=\"dataframe\">\n",
       "  <thead>\n",
       "    <tr style=\"text-align: right;\">\n",
       "      <th></th>\n",
       "      <th>year</th>\n",
       "      <th>week</th>\n",
       "      <th>region</th>\n",
       "      <th>loc</th>\n",
       "      <th>state</th>\n",
       "      <th>number</th>\n",
       "      <th>population</th>\n",
       "      <th>incidence_ratio</th>\n",
       "    </tr>\n",
       "  </thead>\n",
       "  <tbody>\n",
       "    <tr>\n",
       "      <th>0</th>\n",
       "      <td>1928</td>\n",
       "      <td>1</td>\n",
       "      <td>South</td>\n",
       "      <td>2</td>\n",
       "      <td>AL</td>\n",
       "      <td>0.0</td>\n",
       "      <td>2640000</td>\n",
       "      <td>0.00</td>\n",
       "    </tr>\n",
       "    <tr>\n",
       "      <th>1</th>\n",
       "      <td>1928</td>\n",
       "      <td>2</td>\n",
       "      <td>South</td>\n",
       "      <td>2</td>\n",
       "      <td>AL</td>\n",
       "      <td>0.0</td>\n",
       "      <td>2640000</td>\n",
       "      <td>0.00</td>\n",
       "    </tr>\n",
       "    <tr>\n",
       "      <th>2</th>\n",
       "      <td>1928</td>\n",
       "      <td>3</td>\n",
       "      <td>South</td>\n",
       "      <td>2</td>\n",
       "      <td>AL</td>\n",
       "      <td>1.0</td>\n",
       "      <td>2640000</td>\n",
       "      <td>0.04</td>\n",
       "    </tr>\n",
       "    <tr>\n",
       "      <th>3</th>\n",
       "      <td>1928</td>\n",
       "      <td>4</td>\n",
       "      <td>South</td>\n",
       "      <td>2</td>\n",
       "      <td>AL</td>\n",
       "      <td>0.0</td>\n",
       "      <td>2640000</td>\n",
       "      <td>0.00</td>\n",
       "    </tr>\n",
       "    <tr>\n",
       "      <th>4</th>\n",
       "      <td>1928</td>\n",
       "      <td>5</td>\n",
       "      <td>South</td>\n",
       "      <td>2</td>\n",
       "      <td>AL</td>\n",
       "      <td>0.0</td>\n",
       "      <td>2640000</td>\n",
       "      <td>0.00</td>\n",
       "    </tr>\n",
       "  </tbody>\n",
       "</table>\n",
       "</div>"
      ],
      "text/plain": [
       "   year  week region  loc state  number  population  incidence_ratio\n",
       "0  1928     1  South    2    AL     0.0     2640000             0.00\n",
       "1  1928     2  South    2    AL     0.0     2640000             0.00\n",
       "2  1928     3  South    2    AL     1.0     2640000             0.04\n",
       "3  1928     4  South    2    AL     0.0     2640000             0.00\n",
       "4  1928     5  South    2    AL     0.0     2640000             0.00"
      ]
     },
     "execution_count": 22,
     "metadata": {},
     "output_type": "execute_result"
    }
   ],
   "source": [
    "import dask\n",
    "import dask.dataframe as dd\n",
    "\n",
    "df_dask = dd.read_csv('/domino/datasets/local/polioData/polioData.csv', header=0)\n",
    "df_dask.head()"
   ]
  },
  {
   "cell_type": "code",
   "execution_count": 23,
   "id": "e7047468",
   "metadata": {},
   "outputs": [
    {
     "data": {
      "text/plain": [
       "Index(['year', 'week', 'region', 'loc', 'state', 'number', 'population',\n",
       "       'incidence_ratio'],\n",
       "      dtype='object')"
      ]
     },
     "execution_count": 23,
     "metadata": {},
     "output_type": "execute_result"
    }
   ],
   "source": [
    "## look at columns, rows\n",
    "\n",
    "df_dask.columns"
   ]
  },
  {
   "cell_type": "code",
   "execution_count": 24,
   "id": "daa6814e",
   "metadata": {},
   "outputs": [
    {
     "data": {
      "text/html": [
       "<div>\n",
       "<style scoped>\n",
       "    .dataframe tbody tr th:only-of-type {\n",
       "        vertical-align: middle;\n",
       "    }\n",
       "\n",
       "    .dataframe tbody tr th {\n",
       "        vertical-align: top;\n",
       "    }\n",
       "\n",
       "    .dataframe thead th {\n",
       "        text-align: right;\n",
       "    }\n",
       "</style>\n",
       "<table border=\"1\" class=\"dataframe\">\n",
       "  <thead>\n",
       "    <tr style=\"text-align: right;\">\n",
       "      <th></th>\n",
       "      <th>year</th>\n",
       "      <th>week</th>\n",
       "      <th>loc</th>\n",
       "      <th>number</th>\n",
       "      <th>population</th>\n",
       "      <th>incidence_ratio</th>\n",
       "    </tr>\n",
       "  </thead>\n",
       "  <tbody>\n",
       "    <tr>\n",
       "      <th>count</th>\n",
       "      <td>81531.000000</td>\n",
       "      <td>81531.000000</td>\n",
       "      <td>81531.000000</td>\n",
       "      <td>81484.000000</td>\n",
       "      <td>8.153100e+04</td>\n",
       "      <td>81531.000000</td>\n",
       "    </tr>\n",
       "    <tr>\n",
       "      <th>mean</th>\n",
       "      <td>1944.968969</td>\n",
       "      <td>27.756350</td>\n",
       "      <td>2.543940</td>\n",
       "      <td>6.146102</td>\n",
       "      <td>3.179199e+06</td>\n",
       "      <td>0.217488</td>\n",
       "    </tr>\n",
       "    <tr>\n",
       "      <th>std</th>\n",
       "      <td>10.640083</td>\n",
       "      <td>14.760006</td>\n",
       "      <td>1.017445</td>\n",
       "      <td>20.992594</td>\n",
       "      <td>3.219969e+06</td>\n",
       "      <td>0.609224</td>\n",
       "    </tr>\n",
       "    <tr>\n",
       "      <th>min</th>\n",
       "      <td>1928.000000</td>\n",
       "      <td>1.000000</td>\n",
       "      <td>1.000000</td>\n",
       "      <td>0.000000</td>\n",
       "      <td>1.000000e+05</td>\n",
       "      <td>0.000000</td>\n",
       "    </tr>\n",
       "    <tr>\n",
       "      <th>25%</th>\n",
       "      <td>1936.000000</td>\n",
       "      <td>15.000000</td>\n",
       "      <td>2.000000</td>\n",
       "      <td>0.000000</td>\n",
       "      <td>8.470000e+05</td>\n",
       "      <td>0.000000</td>\n",
       "    </tr>\n",
       "    <tr>\n",
       "      <th>50%</th>\n",
       "      <td>1944.000000</td>\n",
       "      <td>29.000000</td>\n",
       "      <td>2.000000</td>\n",
       "      <td>1.000000</td>\n",
       "      <td>2.262000e+06</td>\n",
       "      <td>0.030000</td>\n",
       "    </tr>\n",
       "    <tr>\n",
       "      <th>75%</th>\n",
       "      <td>1954.000000</td>\n",
       "      <td>41.000000</td>\n",
       "      <td>3.000000</td>\n",
       "      <td>3.000000</td>\n",
       "      <td>3.784000e+06</td>\n",
       "      <td>0.160000</td>\n",
       "    </tr>\n",
       "    <tr>\n",
       "      <th>max</th>\n",
       "      <td>1968.000000</td>\n",
       "      <td>52.000000</td>\n",
       "      <td>4.000000</td>\n",
       "      <td>676.000000</td>\n",
       "      <td>1.939400e+07</td>\n",
       "      <td>33.080000</td>\n",
       "    </tr>\n",
       "  </tbody>\n",
       "</table>\n",
       "</div>"
      ],
      "text/plain": [
       "               year          week           loc        number    population  \\\n",
       "count  81531.000000  81531.000000  81531.000000  81484.000000  8.153100e+04   \n",
       "mean    1944.968969     27.756350      2.543940      6.146102  3.179199e+06   \n",
       "std       10.640083     14.760006      1.017445     20.992594  3.219969e+06   \n",
       "min     1928.000000      1.000000      1.000000      0.000000  1.000000e+05   \n",
       "25%     1936.000000     15.000000      2.000000      0.000000  8.470000e+05   \n",
       "50%     1944.000000     29.000000      2.000000      1.000000  2.262000e+06   \n",
       "75%     1954.000000     41.000000      3.000000      3.000000  3.784000e+06   \n",
       "max     1968.000000     52.000000      4.000000    676.000000  1.939400e+07   \n",
       "\n",
       "       incidence_ratio  \n",
       "count     81531.000000  \n",
       "mean          0.217488  \n",
       "std           0.609224  \n",
       "min           0.000000  \n",
       "25%           0.000000  \n",
       "50%           0.030000  \n",
       "75%           0.160000  \n",
       "max          33.080000  "
      ]
     },
     "execution_count": 24,
     "metadata": {},
     "output_type": "execute_result"
    }
   ],
   "source": [
    "## using pandas to describe the dataframe\n",
    "\n",
    "df.describe()"
   ]
  },
  {
   "cell_type": "markdown",
   "id": "c9791a35",
   "metadata": {},
   "source": [
    "So far all our approaches have been the same for dask and for pandas. Here is one place where they differ.  The describe function on a dask dataframe will not provide the expected statistics.  Instead we do the following (see the cells below the df_dask.describe.  In general, remember Dask creates Futures which do not get executed until the ```.compute``` is called.\n",
    "\n",
    "- wrong way is shown first, i.e. df_dask.describe()\n",
    "- correct way is shown second"
   ]
  },
  {
   "cell_type": "code",
   "execution_count": 25,
   "id": "f63b5d31",
   "metadata": {},
   "outputs": [
    {
     "data": {
      "text/html": [
       "<div><strong>Dask DataFrame Structure:</strong></div>\n",
       "<div>\n",
       "<style scoped>\n",
       "    .dataframe tbody tr th:only-of-type {\n",
       "        vertical-align: middle;\n",
       "    }\n",
       "\n",
       "    .dataframe tbody tr th {\n",
       "        vertical-align: top;\n",
       "    }\n",
       "\n",
       "    .dataframe thead th {\n",
       "        text-align: right;\n",
       "    }\n",
       "</style>\n",
       "<table border=\"1\" class=\"dataframe\">\n",
       "  <thead>\n",
       "    <tr style=\"text-align: right;\">\n",
       "      <th></th>\n",
       "      <th>year</th>\n",
       "      <th>week</th>\n",
       "      <th>loc</th>\n",
       "      <th>number</th>\n",
       "      <th>population</th>\n",
       "      <th>incidence_ratio</th>\n",
       "    </tr>\n",
       "    <tr>\n",
       "      <th>npartitions=1</th>\n",
       "      <th></th>\n",
       "      <th></th>\n",
       "      <th></th>\n",
       "      <th></th>\n",
       "      <th></th>\n",
       "      <th></th>\n",
       "    </tr>\n",
       "  </thead>\n",
       "  <tbody>\n",
       "    <tr>\n",
       "      <th></th>\n",
       "      <td>float64</td>\n",
       "      <td>float64</td>\n",
       "      <td>float64</td>\n",
       "      <td>float64</td>\n",
       "      <td>float64</td>\n",
       "      <td>float64</td>\n",
       "    </tr>\n",
       "    <tr>\n",
       "      <th></th>\n",
       "      <td>...</td>\n",
       "      <td>...</td>\n",
       "      <td>...</td>\n",
       "      <td>...</td>\n",
       "      <td>...</td>\n",
       "      <td>...</td>\n",
       "    </tr>\n",
       "  </tbody>\n",
       "</table>\n",
       "</div>\n",
       "<div>Dask Name: describe-numeric, 43 tasks</div>"
      ],
      "text/plain": [
       "Dask DataFrame Structure:\n",
       "                  year     week      loc   number population incidence_ratio\n",
       "npartitions=1                                                               \n",
       "               float64  float64  float64  float64    float64         float64\n",
       "                   ...      ...      ...      ...        ...             ...\n",
       "Dask Name: describe-numeric, 43 tasks"
      ]
     },
     "execution_count": 25,
     "metadata": {},
     "output_type": "execute_result"
    }
   ],
   "source": [
    "## describe dask dataframe, looks different as it does not do any calculations on the df,\n",
    "## dask only does the describe function only indicates the number of partitions unless compute is called\n",
    "\n",
    "dd.DataFrame.describe(df_dask)"
   ]
  },
  {
   "cell_type": "code",
   "execution_count": 26,
   "id": "871b41ce",
   "metadata": {},
   "outputs": [
    {
     "data": {
      "text/html": [
       "<div>\n",
       "<style scoped>\n",
       "    .dataframe tbody tr th:only-of-type {\n",
       "        vertical-align: middle;\n",
       "    }\n",
       "\n",
       "    .dataframe tbody tr th {\n",
       "        vertical-align: top;\n",
       "    }\n",
       "\n",
       "    .dataframe thead th {\n",
       "        text-align: right;\n",
       "    }\n",
       "</style>\n",
       "<table border=\"1\" class=\"dataframe\">\n",
       "  <thead>\n",
       "    <tr style=\"text-align: right;\">\n",
       "      <th></th>\n",
       "      <th>year</th>\n",
       "      <th>week</th>\n",
       "      <th>loc</th>\n",
       "      <th>number</th>\n",
       "      <th>population</th>\n",
       "      <th>incidence_ratio</th>\n",
       "    </tr>\n",
       "  </thead>\n",
       "  <tbody>\n",
       "    <tr>\n",
       "      <th>count</th>\n",
       "      <td>81531.000000</td>\n",
       "      <td>81531.000000</td>\n",
       "      <td>81531.000000</td>\n",
       "      <td>81484.000000</td>\n",
       "      <td>8.153100e+04</td>\n",
       "      <td>81531.000000</td>\n",
       "    </tr>\n",
       "    <tr>\n",
       "      <th>mean</th>\n",
       "      <td>1944.968969</td>\n",
       "      <td>27.756350</td>\n",
       "      <td>2.543940</td>\n",
       "      <td>6.146102</td>\n",
       "      <td>3.179199e+06</td>\n",
       "      <td>0.217488</td>\n",
       "    </tr>\n",
       "    <tr>\n",
       "      <th>std</th>\n",
       "      <td>10.640083</td>\n",
       "      <td>14.760006</td>\n",
       "      <td>1.017445</td>\n",
       "      <td>20.992594</td>\n",
       "      <td>3.219969e+06</td>\n",
       "      <td>0.609224</td>\n",
       "    </tr>\n",
       "    <tr>\n",
       "      <th>min</th>\n",
       "      <td>1928.000000</td>\n",
       "      <td>1.000000</td>\n",
       "      <td>1.000000</td>\n",
       "      <td>0.000000</td>\n",
       "      <td>1.000000e+05</td>\n",
       "      <td>0.000000</td>\n",
       "    </tr>\n",
       "    <tr>\n",
       "      <th>25%</th>\n",
       "      <td>1936.000000</td>\n",
       "      <td>15.000000</td>\n",
       "      <td>2.000000</td>\n",
       "      <td>0.000000</td>\n",
       "      <td>8.470000e+05</td>\n",
       "      <td>0.000000</td>\n",
       "    </tr>\n",
       "    <tr>\n",
       "      <th>50%</th>\n",
       "      <td>1944.000000</td>\n",
       "      <td>29.000000</td>\n",
       "      <td>2.000000</td>\n",
       "      <td>1.000000</td>\n",
       "      <td>2.262000e+06</td>\n",
       "      <td>0.030000</td>\n",
       "    </tr>\n",
       "    <tr>\n",
       "      <th>75%</th>\n",
       "      <td>1954.000000</td>\n",
       "      <td>41.000000</td>\n",
       "      <td>3.000000</td>\n",
       "      <td>3.000000</td>\n",
       "      <td>3.784000e+06</td>\n",
       "      <td>0.160000</td>\n",
       "    </tr>\n",
       "    <tr>\n",
       "      <th>max</th>\n",
       "      <td>1968.000000</td>\n",
       "      <td>52.000000</td>\n",
       "      <td>4.000000</td>\n",
       "      <td>676.000000</td>\n",
       "      <td>1.939400e+07</td>\n",
       "      <td>33.080000</td>\n",
       "    </tr>\n",
       "  </tbody>\n",
       "</table>\n",
       "</div>"
      ],
      "text/plain": [
       "               year          week           loc        number    population  \\\n",
       "count  81531.000000  81531.000000  81531.000000  81484.000000  8.153100e+04   \n",
       "mean    1944.968969     27.756350      2.543940      6.146102  3.179199e+06   \n",
       "std       10.640083     14.760006      1.017445     20.992594  3.219969e+06   \n",
       "min     1928.000000      1.000000      1.000000      0.000000  1.000000e+05   \n",
       "25%     1936.000000     15.000000      2.000000      0.000000  8.470000e+05   \n",
       "50%     1944.000000     29.000000      2.000000      1.000000  2.262000e+06   \n",
       "75%     1954.000000     41.000000      3.000000      3.000000  3.784000e+06   \n",
       "max     1968.000000     52.000000      4.000000    676.000000  1.939400e+07   \n",
       "\n",
       "       incidence_ratio  \n",
       "count     81531.000000  \n",
       "mean          0.217488  \n",
       "std           0.609224  \n",
       "min           0.000000  \n",
       "25%           0.000000  \n",
       "50%           0.030000  \n",
       "75%           0.160000  \n",
       "max          33.080000  "
      ]
     },
     "execution_count": 26,
     "metadata": {},
     "output_type": "execute_result"
    }
   ],
   "source": [
    "describe = dd.DataFrame.describe(df_dask).compute()\n",
    "describe"
   ]
  },
  {
   "cell_type": "code",
   "execution_count": 40,
   "id": "17c7db23",
   "metadata": {},
   "outputs": [
    {
     "data": {
      "text/html": [
       "<div>\n",
       "<style scoped>\n",
       "    .dataframe tbody tr th:only-of-type {\n",
       "        vertical-align: middle;\n",
       "    }\n",
       "\n",
       "    .dataframe tbody tr th {\n",
       "        vertical-align: top;\n",
       "    }\n",
       "\n",
       "    .dataframe thead th {\n",
       "        text-align: right;\n",
       "    }\n",
       "</style>\n",
       "<table border=\"1\" class=\"dataframe\">\n",
       "  <thead>\n",
       "    <tr style=\"text-align: right;\">\n",
       "      <th></th>\n",
       "      <th>year</th>\n",
       "      <th>week</th>\n",
       "      <th>region</th>\n",
       "      <th>loc</th>\n",
       "      <th>state</th>\n",
       "      <th>number</th>\n",
       "      <th>population</th>\n",
       "      <th>incidence_ratio</th>\n",
       "    </tr>\n",
       "  </thead>\n",
       "  <tbody>\n",
       "    <tr>\n",
       "      <th>0</th>\n",
       "      <td>1928</td>\n",
       "      <td>1</td>\n",
       "      <td>South</td>\n",
       "      <td>2</td>\n",
       "      <td>AL</td>\n",
       "      <td>0.0</td>\n",
       "      <td>2640000</td>\n",
       "      <td>0.00</td>\n",
       "    </tr>\n",
       "    <tr>\n",
       "      <th>1</th>\n",
       "      <td>1928</td>\n",
       "      <td>2</td>\n",
       "      <td>South</td>\n",
       "      <td>2</td>\n",
       "      <td>AL</td>\n",
       "      <td>0.0</td>\n",
       "      <td>2640000</td>\n",
       "      <td>0.00</td>\n",
       "    </tr>\n",
       "    <tr>\n",
       "      <th>2</th>\n",
       "      <td>1928</td>\n",
       "      <td>3</td>\n",
       "      <td>South</td>\n",
       "      <td>2</td>\n",
       "      <td>AL</td>\n",
       "      <td>1.0</td>\n",
       "      <td>2640000</td>\n",
       "      <td>0.04</td>\n",
       "    </tr>\n",
       "    <tr>\n",
       "      <th>3</th>\n",
       "      <td>1928</td>\n",
       "      <td>4</td>\n",
       "      <td>South</td>\n",
       "      <td>2</td>\n",
       "      <td>AL</td>\n",
       "      <td>0.0</td>\n",
       "      <td>2640000</td>\n",
       "      <td>0.00</td>\n",
       "    </tr>\n",
       "    <tr>\n",
       "      <th>4</th>\n",
       "      <td>1928</td>\n",
       "      <td>5</td>\n",
       "      <td>South</td>\n",
       "      <td>2</td>\n",
       "      <td>AL</td>\n",
       "      <td>0.0</td>\n",
       "      <td>2640000</td>\n",
       "      <td>0.00</td>\n",
       "    </tr>\n",
       "  </tbody>\n",
       "</table>\n",
       "</div>"
      ],
      "text/plain": [
       "   year  week region  loc state  number  population  incidence_ratio\n",
       "0  1928     1  South    2    AL     0.0     2640000             0.00\n",
       "1  1928     2  South    2    AL     0.0     2640000             0.00\n",
       "2  1928     3  South    2    AL     1.0     2640000             0.04\n",
       "3  1928     4  South    2    AL     0.0     2640000             0.00\n",
       "4  1928     5  South    2    AL     0.0     2640000             0.00"
      ]
     },
     "execution_count": 40,
     "metadata": {},
     "output_type": "execute_result"
    }
   ],
   "source": [
    "df.head()"
   ]
  },
  {
   "cell_type": "code",
   "execution_count": 54,
   "id": "af006387",
   "metadata": {},
   "outputs": [
    {
     "data": {
      "text/html": [
       "<div>\n",
       "<style scoped>\n",
       "    .dataframe tbody tr th:only-of-type {\n",
       "        vertical-align: middle;\n",
       "    }\n",
       "\n",
       "    .dataframe tbody tr th {\n",
       "        vertical-align: top;\n",
       "    }\n",
       "\n",
       "    .dataframe thead th {\n",
       "        text-align: right;\n",
       "    }\n",
       "</style>\n",
       "<table border=\"1\" class=\"dataframe\">\n",
       "  <thead>\n",
       "    <tr style=\"text-align: right;\">\n",
       "      <th></th>\n",
       "      <th>year</th>\n",
       "      <th>week</th>\n",
       "      <th>region</th>\n",
       "      <th>loc</th>\n",
       "      <th>state</th>\n",
       "      <th>number</th>\n",
       "      <th>population</th>\n",
       "      <th>incidence_ratio</th>\n",
       "    </tr>\n",
       "  </thead>\n",
       "  <tbody>\n",
       "    <tr>\n",
       "      <th>0</th>\n",
       "      <td>1928</td>\n",
       "      <td>1</td>\n",
       "      <td>South</td>\n",
       "      <td>2</td>\n",
       "      <td>AL</td>\n",
       "      <td>0.0</td>\n",
       "      <td>2640000</td>\n",
       "      <td>0.00</td>\n",
       "    </tr>\n",
       "    <tr>\n",
       "      <th>1</th>\n",
       "      <td>1928</td>\n",
       "      <td>2</td>\n",
       "      <td>South</td>\n",
       "      <td>2</td>\n",
       "      <td>AL</td>\n",
       "      <td>0.0</td>\n",
       "      <td>2640000</td>\n",
       "      <td>0.00</td>\n",
       "    </tr>\n",
       "    <tr>\n",
       "      <th>2</th>\n",
       "      <td>1928</td>\n",
       "      <td>3</td>\n",
       "      <td>South</td>\n",
       "      <td>2</td>\n",
       "      <td>AL</td>\n",
       "      <td>1.0</td>\n",
       "      <td>2640000</td>\n",
       "      <td>0.04</td>\n",
       "    </tr>\n",
       "    <tr>\n",
       "      <th>3</th>\n",
       "      <td>1928</td>\n",
       "      <td>4</td>\n",
       "      <td>South</td>\n",
       "      <td>2</td>\n",
       "      <td>AL</td>\n",
       "      <td>0.0</td>\n",
       "      <td>2640000</td>\n",
       "      <td>0.00</td>\n",
       "    </tr>\n",
       "    <tr>\n",
       "      <th>4</th>\n",
       "      <td>1928</td>\n",
       "      <td>5</td>\n",
       "      <td>South</td>\n",
       "      <td>2</td>\n",
       "      <td>AL</td>\n",
       "      <td>0.0</td>\n",
       "      <td>2640000</td>\n",
       "      <td>0.00</td>\n",
       "    </tr>\n",
       "  </tbody>\n",
       "</table>\n",
       "</div>"
      ],
      "text/plain": [
       "   year  week region  loc state  number  population  incidence_ratio\n",
       "0  1928     1  South    2    AL     0.0     2640000             0.00\n",
       "1  1928     2  South    2    AL     0.0     2640000             0.00\n",
       "2  1928     3  South    2    AL     1.0     2640000             0.04\n",
       "3  1928     4  South    2    AL     0.0     2640000             0.00\n",
       "4  1928     5  South    2    AL     0.0     2640000             0.00"
      ]
     },
     "execution_count": 54,
     "metadata": {},
     "output_type": "execute_result"
    }
   ],
   "source": [
    "df_dask.head()"
   ]
  },
  {
   "cell_type": "markdown",
   "id": "b393c240",
   "metadata": {},
   "source": [
    "### The following is an example of K-means clustering using Sklearn Natively versus Dask's Machine Learning Library\n",
    "\n",
    "This example shows at least a five-fold faster training using Dask's Machine Learning library with syntax very similar to sci-kit learn.  Running using the Dask library will distribute training across nodes.  "
   ]
  },
  {
   "cell_type": "markdown",
   "id": "a256939b",
   "metadata": {},
   "source": [
    "Using Sci-kit Learn natively on Dask we see a training time as noted below."
   ]
  },
  {
   "cell_type": "code",
   "execution_count": 14,
   "id": "ecd9347a",
   "metadata": {},
   "outputs": [],
   "source": [
    "# import libraries\n",
    "\n",
    "from sklearn import cluster\n",
    "import time\n",
    "from sklearn import datasets\n",
    "import matplotlib.pyplot as plt\n",
    "%matplotlib inline"
   ]
  },
  {
   "cell_type": "code",
   "execution_count": 15,
   "id": "8f3a3c63",
   "metadata": {},
   "outputs": [],
   "source": [
    "X, y = datasets.make_blobs(n_samples=10**8, random_state=0,\n",
    "                                   centers=3)"
   ]
  },
  {
   "cell_type": "code",
   "execution_count": 19,
   "id": "04bcdd51",
   "metadata": {},
   "outputs": [
    {
     "name": "stdout",
     "output_type": "stream",
     "text": [
      "CPU times: user 6min 34s, sys: 44.9 s, total: 7min 19s\n",
      "Wall time: 3min 38s\n"
     ]
    },
    {
     "data": {
      "text/plain": [
       "KMeans(n_clusters=3)"
      ]
     },
     "execution_count": 19,
     "metadata": {},
     "output_type": "execute_result"
    }
   ],
   "source": [
    "%%time\n",
    "\n",
    "km = cluster.KMeans(n_clusters=3)\n",
    "km.fit(X)"
   ]
  },
  {
   "cell_type": "code",
   "execution_count": 20,
   "id": "3785366b",
   "metadata": {},
   "outputs": [
    {
     "data": {
      "image/png": "[encoded data removed]",
      "text/plain": [
       "<Figure size 432x288 with 1 Axes>"
      ]
     },
     "metadata": {
      "needs_background": "light"
     },
     "output_type": "display_data"
    }
   ],
   "source": [
    "fig, ax = plt.subplots()\n",
    "ax.scatter(X[::10000, 0], X[::10000, 1], marker='.', c=km.labels_[::10000],\n",
    "           cmap='viridis', alpha=0.25);"
   ]
  },
  {
   "cell_type": "markdown",
   "id": "5ca327aa",
   "metadata": {},
   "source": [
    "Using Dask's ML library we make very minor code changes, but have a large speed-up of training time."
   ]
  },
  {
   "cell_type": "code",
   "execution_count": 26,
   "id": "8fd228e9",
   "metadata": {},
   "outputs": [],
   "source": [
    "## import dask ml libraries\n",
    "\n",
    "import dask_ml.datasets\n",
    "import dask_ml.cluster\n",
    "import time\n",
    "import matplotlib.pyplot as plt\n",
    "%matplotlib inline"
   ]
  },
  {
   "cell_type": "code",
   "execution_count": 27,
   "id": "5be5a1d7",
   "metadata": {},
   "outputs": [
    {
     "data": {
      "text/html": [
       "<table>\n",
       "<tr>\n",
       "<td>\n",
       "<table>\n",
       "  <thead>\n",
       "    <tr><td> </td><th> Array </th><th> Chunk </th></tr>\n",
       "  </thead>\n",
       "  <tbody>\n",
       "    <tr><th> Bytes </th><td> 1.49 GiB </td> <td> 15.26 MiB </td></tr>\n",
       "    <tr><th> Shape </th><td> (100000000, 2) </td> <td> (1000000, 2) </td></tr>\n",
       "    <tr><th> Count </th><td> 100 Tasks </td><td> 100 Chunks </td></tr>\n",
       "    <tr><th> Type </th><td> float64 </td><td> numpy.ndarray </td></tr>\n",
       "  </tbody>\n",
       "</table>\n",
       "</td>\n",
       "<td>\n",
       "<svg width=\"75\" height=\"170\" style=\"stroke:rgb(0,0,0);stroke-width:1\" >\n",
       "\n",
       "  <!-- Horizontal lines -->\n",
       "  <line x1=\"0\" y1=\"0\" x2=\"25\" y2=\"0\" style=\"stroke-width:2\" />\n",
       "  <line x1=\"0\" y1=\"6\" x2=\"25\" y2=\"6\" />\n",
       "  <line x1=\"0\" y1=\"12\" x2=\"25\" y2=\"12\" />\n",
       "  <line x1=\"0\" y1=\"18\" x2=\"25\" y2=\"18\" />\n",
       "  <line x1=\"0\" y1=\"25\" x2=\"25\" y2=\"25\" />\n",
       "  <line x1=\"0\" y1=\"31\" x2=\"25\" y2=\"31\" />\n",
       "  <line x1=\"0\" y1=\"37\" x2=\"25\" y2=\"37\" />\n",
       "  <line x1=\"0\" y1=\"43\" x2=\"25\" y2=\"43\" />\n",
       "  <line x1=\"0\" y1=\"50\" x2=\"25\" y2=\"50\" />\n",
       "  <line x1=\"0\" y1=\"56\" x2=\"25\" y2=\"56\" />\n",
       "  <line x1=\"0\" y1=\"62\" x2=\"25\" y2=\"62\" />\n",
       "  <line x1=\"0\" y1=\"68\" x2=\"25\" y2=\"68\" />\n",
       "  <line x1=\"0\" y1=\"75\" x2=\"25\" y2=\"75\" />\n",
       "  <line x1=\"0\" y1=\"81\" x2=\"25\" y2=\"81\" />\n",
       "  <line x1=\"0\" y1=\"87\" x2=\"25\" y2=\"87\" />\n",
       "  <line x1=\"0\" y1=\"93\" x2=\"25\" y2=\"93\" />\n",
       "  <line x1=\"0\" y1=\"100\" x2=\"25\" y2=\"100\" />\n",
       "  <line x1=\"0\" y1=\"106\" x2=\"25\" y2=\"106\" />\n",
       "  <line x1=\"0\" y1=\"112\" x2=\"25\" y2=\"112\" />\n",
       "  <line x1=\"0\" y1=\"120\" x2=\"25\" y2=\"120\" style=\"stroke-width:2\" />\n",
       "\n",
       "  <!-- Vertical lines -->\n",
       "  <line x1=\"0\" y1=\"0\" x2=\"0\" y2=\"120\" style=\"stroke-width:2\" />\n",
       "  <line x1=\"25\" y1=\"0\" x2=\"25\" y2=\"120\" style=\"stroke-width:2\" />\n",
       "\n",
       "  <!-- Colored Rectangle -->\n",
       "  <polygon points=\"0.0,0.0 25.412616514582485,0.0 25.412616514582485,120.0 0.0,120.0\" style=\"fill:#8B4903A0;stroke-width:0\"/>\n",
       "\n",
       "  <!-- Text -->\n",
       "  <text x=\"12.706308\" y=\"140.000000\" font-size=\"1.0rem\" font-weight=\"100\" text-anchor=\"middle\" >2</text>\n",
       "  <text x=\"45.412617\" y=\"60.000000\" font-size=\"1.0rem\" font-weight=\"100\" text-anchor=\"middle\" transform=\"rotate(-90,45.412617,60.000000)\">100000000</text>\n",
       "</svg>\n",
       "</td>\n",
       "</tr>\n",
       "</table>"
      ],
      "text/plain": [
       "dask.array<concatenate, shape=(100000000, 2), dtype=float64, chunksize=(1000000, 2), chunktype=numpy.ndarray>"
      ]
     },
     "execution_count": 27,
     "metadata": {},
     "output_type": "execute_result"
    }
   ],
   "source": [
    "X, y = dask_ml.datasets.make_blobs(n_samples=10**8,\n",
    "                                   chunks=1000000,\n",
    "                                   random_state=0,\n",
    "                                   centers=3)\n",
    "X = X.persist()\n",
    "X"
   ]
  },
  {
   "cell_type": "code",
   "execution_count": 31,
   "id": "68292aee",
   "metadata": {},
   "outputs": [
    {
     "name": "stdout",
     "output_type": "stream",
     "text": [
      "CPU times: user 1.81 s, sys: 23.7 ms, total: 1.83 s\n",
      "Wall time: 33.6 s\n"
     ]
    },
    {
     "data": {
      "text/plain": [
       "KMeans(init_max_iter=2, n_clusters=3, oversampling_factor=10)"
      ]
     },
     "execution_count": 31,
     "metadata": {},
     "output_type": "execute_result"
    }
   ],
   "source": [
    "%%time\n",
    "\n",
    "km = dask_ml.cluster.KMeans(init='k-means||', n_clusters=3, init_max_iter=2, oversampling_factor=10)\n",
    "km.fit(X)"
   ]
  },
  {
   "cell_type": "code",
   "execution_count": 24,
   "id": "0443472f",
   "metadata": {},
   "outputs": [
    {
     "data": {
      "image/png": "[encoded data removed]",
      "text/plain": [
       "<Figure size 432x288 with 1 Axes>"
      ]
     },
     "metadata": {
      "needs_background": "light"
     },
     "output_type": "display_data"
    }
   ],
   "source": [
    "fig, ax = plt.subplots()\n",
    "ax.scatter(X[::10000, 0], X[::10000, 1], marker='.', c=km.labels_[::10000],\n",
    "           cmap='viridis', alpha=0.25);"
   ]
  },
  {
   "cell_type": "markdown",
   "id": "74f1179e",
   "metadata": {},
   "source": [
    "### Using the XGBoost Library on Dask\n",
    "\n",
    "Xgboost library now has Dask incorporated into it.  Lets first run a test using synthetic data.  Please notice we are running this test in local mode.  That means the data is parallelized but not distributed.  To run in distributed mode, use the instructions at the start of the tutorial.  When using the command LocalCluster(), a cluster will be set up locally on a single node.  If no client is created, it will run on the default cluster, i.e. the one that was started at the top of this notebook.  It is an ideosyncrocay of the xgboost's integration of dask."
   ]
  },
  {
   "cell_type": "code",
   "execution_count": 43,
   "id": "4c419bdf",
   "metadata": {},
   "outputs": [
    {
     "name": "stderr",
     "output_type": "stream",
     "text": [
      "[18:28:29] task [xgboost.dask]:tcp://127.0.0.1:39201 got new rank 0\n",
      "[18:28:29] task [xgboost.dask]:tcp://127.0.0.1:38917 got new rank 1\n",
      "[18:28:29] task [xgboost.dask]:tcp://127.0.0.1:35497 got new rank 2\n",
      "[18:28:29] task [xgboost.dask]:tcp://127.0.0.1:46653 got new rank 3\n",
      "[18:28:29] INFO: ../src/gbm/gbtree.cc:177: Tree method is selected to be 'hist', which uses a single updater grow_quantile_histmaker.[18:28:29] INFO: ../src/gbm/gbtree.cc:177: Tree method is selected to be 'hist', which uses a single updater grow_quantile_histmaker.[18:28:29] INFO: ../src/gbm/gbtree.cc:177: Tree method is selected to be 'hist', which uses a single updater grow_quantile_histmaker.[18:28:29] INFO: ../src/gbm/gbtree.cc:177: Tree method is selected to be 'hist', which uses a single updater grow_quantile_histmaker.\n",
      "\n",
      "\n",
      "\n",
      "[18:28:29] INFO: ../src/gbm/gbtree.cc:177: Tree method is selected to be 'hist', which uses a single updater grow_quantile_histmaker.\n",
      "[18:28:29] INFO: ../src/gbm/gbtree.cc:177: Tree method is selected to be 'hist', which uses a single updater grow_quantile_histmaker.\n",
      "[18:28:29] INFO: ../src/gbm/gbtree.cc:177: Tree method is selected to be 'hist', which uses a single updater grow_quantile_histmaker.\n",
      "[18:28:29] INFO: ../src/gbm/gbtree.cc:177: Tree method is selected to be 'hist', which uses a single updater grow_quantile_histmaker.\n"
     ]
    },
    {
     "name": "stdout",
     "output_type": "stream",
     "text": [
      "[0]\ttrain-rmse:0.28753\n",
      "[1]\ttrain-rmse:0.28729\n"
     ]
    },
    {
     "name": "stderr",
     "output_type": "stream",
     "text": [
      "[18:28:29] INFO: ../src/tree/updater_prune.cc:101: tree pruning end, 116 extra nodes, 0 pruned nodes, max_depth=6\n",
      "[18:28:29] INFO: ../src/tree/updater_prune.cc:101: tree pruning end, 116 extra nodes, 0 pruned nodes, max_depth=6\n",
      "[18:28:29] INFO: ../src/tree/updater_prune.cc:101: tree pruning end, 116 extra nodes, 0 pruned nodes, max_depth=6\n",
      "[18:28:29] INFO: ../src/tree/updater_prune.cc:101: tree pruning end, 116 extra nodes, 0 pruned nodes, max_depth=6\n",
      "[18:28:29] INFO: ../src/gbm/gbtree.cc:177: Tree method is selected to be 'hist', which uses a single updater grow_quantile_histmaker.\n",
      "[18:28:29] INFO: ../src/gbm/gbtree.cc:177: Tree method is selected to be 'hist', which uses a single updater grow_quantile_histmaker.\n",
      "[18:28:29] INFO: ../src/gbm/gbtree.cc:177: Tree method is selected to be 'hist', which uses a single updater grow_quantile_histmaker.\n",
      "[18:28:29] INFO: ../src/gbm/gbtree.cc:177: Tree method is selected to be 'hist', which uses a single updater grow_quantile_histmaker.\n",
      "[18:28:29] INFO: ../src/tree/updater_prune.cc:101: tree pruning end, 94 extra nodes, 0 pruned nodes, max_depth=6\n",
      "[18:28:29] INFO: ../src/tree/updater_prune.cc:101: tree pruning end, 94 extra nodes, 0 pruned nodes, max_depth=6\n",
      "[18:28:29] INFO: ../src/tree/updater_prune.cc:101: tree pruning end, 94 extra nodes, 0 pruned nodes, max_depth=6[18:28:29] INFO: ../src/tree/updater_prune.cc:101: tree pruning end, 94 extra nodes, 0 pruned nodes, max_depth=6\n",
      "\n",
      "[18:28:30] INFO: ../src/gbm/gbtree.cc:177: Tree method is selected to be 'hist', which uses a single updater grow_quantile_histmaker.\n",
      "[18:28:30] INFO: ../src/gbm/gbtree.cc:177: Tree method is selected to be 'hist', which uses a single updater grow_quantile_histmaker.\n",
      "[18:28:30] INFO: ../src/gbm/gbtree.cc:177: Tree method is selected to be 'hist', which uses a single updater grow_quantile_histmaker.\n",
      "[18:28:30] INFO: ../src/gbm/gbtree.cc:177: Tree method is selected to be 'hist', which uses a single updater grow_quantile_histmaker.\n",
      "[18:28:30] INFO: ../src/tree/updater_prune.cc:101: tree pruning end, 118 extra nodes, 0 pruned nodes, max_depth=6\n",
      "[18:28:30] INFO: ../src/tree/updater_prune.cc:101: tree pruning end, 118 extra nodes, 0 pruned nodes, max_depth=6\n",
      "[18:28:30] INFO: ../src/tree/updater_prune.cc:101: tree pruning end, 118 extra nodes, 0 pruned nodes, max_depth=6\n",
      "[18:28:30] INFO: ../src/tree/updater_prune.cc:101: tree pruning end, 118 extra nodes, 0 pruned nodes, max_depth=6\n"
     ]
    },
    {
     "name": "stdout",
     "output_type": "stream",
     "text": [
      "[2]\ttrain-rmse:0.28697\n",
      "[3]\ttrain-rmse:0.28660\n"
     ]
    },
    {
     "name": "stderr",
     "output_type": "stream",
     "text": [
      "[18:28:30] INFO: ../src/gbm/gbtree.cc:177: Tree method is selected to be 'hist', which uses a single updater grow_quantile_histmaker.\n",
      "[18:28:30] INFO: ../src/gbm/gbtree.cc:177: Tree method is selected to be 'hist', which uses a single updater grow_quantile_histmaker.\n",
      "[18:28:30] INFO: ../src/gbm/gbtree.cc:177: Tree method is selected to be 'hist', which uses a single updater grow_quantile_histmaker.\n",
      "[18:28:30] INFO: ../src/gbm/gbtree.cc:177: Tree method is selected to be 'hist', which uses a single updater grow_quantile_histmaker.\n",
      "[18:28:30] INFO: ../src/tree/updater_prune.cc:101: tree pruning end, 114 extra nodes, 0 pruned nodes, max_depth=6\n",
      "[18:28:30] INFO: ../src/tree/updater_prune.cc:101: tree pruning end, 114 extra nodes, 0 pruned nodes, max_depth=6\n",
      "[18:28:30] INFO: ../src/tree/updater_prune.cc:101: tree pruning end, 114 extra nodes, 0 pruned nodes, max_depth=6\n",
      "[18:28:30] INFO: ../src/tree/updater_prune.cc:101: tree pruning end, 114 extra nodes, 0 pruned nodes, max_depth=6\n"
     ]
    }
   ],
   "source": [
    "## perform a regression based on state and incidence ratio\n",
    "import xgboost as xgb\n",
    "import dask.array as da\n",
    "import dask.distributed\n",
    "\n",
    "\n",
    "cluster = dask.distributed.LocalCluster()\n",
    "client = dask.distributed.Client(cluster)\n",
    "\n",
    "# X and y must be Dask dataframes or arrays\n",
    "num_obs = 1e5\n",
    "num_features = 20\n",
    "X = da.random.random(size=(num_obs, num_features), chunks=(1000, num_features))\n",
    "y = da.random.random(size=(num_obs, 1), chunks=(1000, 1))\n",
    "\n",
    "dtrain = xgb.dask.DaskDMatrix(client, X, y)\n",
    "\n",
    "output = xgb.dask.train(\n",
    "    client,\n",
    "    {\"verbosity\": 2, \"tree_method\": \"hist\", \"objective\": \"reg:squarederror\"},\n",
    "    dtrain,\n",
    "    num_boost_round=4,\n",
    "    evals=[(dtrain, \"train\")],\n",
    ")"
   ]
  },
  {
   "cell_type": "code",
   "execution_count": 44,
   "id": "37fa769b",
   "metadata": {},
   "outputs": [
    {
     "name": "stdout",
     "output_type": "stream",
     "text": [
      "dask.array<concatenate, shape=(100000,), dtype=float32, chunksize=(1000,), chunktype=numpy.ndarray>\n"
     ]
    },
    {
     "data": {
      "text/plain": [
       "array([0.49775937, 0.49521366, 0.49982753, ..., 0.507173  , 0.49521366,\n",
       "       0.4876108 ], dtype=float32)"
      ]
     },
     "execution_count": 44,
     "metadata": {},
     "output_type": "execute_result"
    }
   ],
   "source": [
    "## look at a few of the predictions\n",
    "\n",
    "booster = output['booster']\n",
    "\n",
    "# dtrain is the DaskDMatrix defined above.\n",
    "prediction = xgb.dask.predict(client, booster, dtrain)\n",
    "print(prediction)\n",
    "prediction.compute()"
   ]
  },
  {
   "cell_type": "markdown",
   "id": "5caf85ee",
   "metadata": {},
   "source": [
    "### Helpful Resources and Documentation\n",
    "\n",
    "1. XGBoost on Dask tutorial is here: [XGBoost Dask Tutorial](https://xgboost.readthedocs.io/en/release_1.1.0/tutorials/dask.html)\n",
    "2. Dask documentation on best practices: [Dask Best Practices](https://docs.dask.org/en/latest/best-practices.html)\n",
    "3. Information on the Dask Dashboard: [Dashboard Tutorial](https://youtu.be/N_GqzcuGLCY)"
   ]
  }
 ],
 "metadata": {
  "kernelspec": {
   "display_name": "Python 3 (ipykernel)",
   "language": "python",
   "name": "python3"
  },
  "language_info": {
   "codemirror_mode": {
    "name": "ipython",
    "version": 3
   },
   "file_extension": ".py",
   "mimetype": "text/x-python",
   "name": "python",
   "nbconvert_exporter": "python",
   "pygments_lexer": "ipython3",
   "version": "3.8.12"
  }
 },
 "nbformat": 4,
 "nbformat_minor": 5
}
