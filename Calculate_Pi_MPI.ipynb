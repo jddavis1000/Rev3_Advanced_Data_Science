{
 "cells": [
  {
   "cell_type": "markdown",
   "id": "97bee9ba",
   "metadata": {},
   "source": [
    "### A \"Hello World\" Example of MPI on Domino\n",
    "\n",
    "In this example we compare using a distributed system on GPUs versus calculating pi on a single GPU.  For both instances we will use a simple inference to approximate pi.  Notice that there more than a sixty-fold reduction in time.  \n",
    "\n",
    "MPI is a powerful tool used in supercomputing.  Try it on Domino with this 'hello world example'.  For more complex examples reach out to training@dominodatalab.com"
   ]
  },
  {
   "cell_type": "code",
   "execution_count": 1,
   "id": "8d9528c0",
   "metadata": {},
   "outputs": [],
   "source": [
    "import time\n",
    "\n",
    "import math\n",
    "import random\n",
    "import time\n",
    "\n",
    "def sample(num_samples):\n",
    "    num_inside = 0\n",
    "    for _ in range(num_samples):\n",
    "        x, y = random.uniform(-1, 1), random.uniform(-1, 1)\n",
    "        if math.hypot(x, y) <= 1:\n",
    "            num_inside += 1\n",
    "    return num_inside\n",
    "\n",
    "def approximate_pi(num_samples):\n",
    "    start = time.time()\n",
    "    num_inside = sample(num_samples)\n",
    "    end = time.time()\n",
    "    \n",
    "    print(\"pi ~= {}\".format((4*num_inside)/num_samples))"
   ]
  },
  {
   "cell_type": "code",
   "execution_count": 2,
   "id": "53b3b65c",
   "metadata": {},
   "outputs": [
    {
     "name": "stdout",
     "output_type": "stream",
     "text": [
      "pi ~= 3.1414932\n",
      "CPU times: user 1min 23s, sys: 17.4 ms, total: 1min 23s\n",
      "Wall time: 1min 23s\n"
     ]
    }
   ],
   "source": [
    "%%time\n",
    "\n",
    "approximate_pi(10**8)"
   ]
  },
  {
   "cell_type": "markdown",
   "id": "fde6dfb8",
   "metadata": {},
   "source": [
    "To calculate pi using MPI we will use the mpi4py library which is a python wrapper around MPI command line tasks.  Spawning is a method to distribute the calculations over several GPUs (or CPUs)."
   ]
  },
  {
   "cell_type": "code",
   "execution_count": 3,
   "id": "007efec3",
   "metadata": {},
   "outputs": [
    {
     "name": "stdout",
     "output_type": "stream",
     "text": [
      "3.141600986923124\n",
      "CPU times: user 180 ms, sys: 72.6 ms, total: 253 ms\n",
      "Wall time: 1.17 s\n"
     ]
    }
   ],
   "source": [
    "%%time\n",
    "\n",
    "from mpi4py import MPI\n",
    "import numpy\n",
    "import sys\n",
    "\n",
    "comm = MPI.COMM_SELF.Spawn(sys.executable,\n",
    "                           args=['cpi.py'],\n",
    "                           maxprocs=2)\n",
    "\n",
    "N = numpy.array(100, 'i')\n",
    "comm.Bcast([N, MPI.INT], root=MPI.ROOT)\n",
    "PI = numpy.array(0.0, 'd')\n",
    "comm.Reduce(None, [PI, MPI.DOUBLE],\n",
    "            op=MPI.SUM, root=MPI.ROOT)\n",
    "print(PI)\n",
    "\n",
    "comm.Disconnect()"
   ]
  }
 ],
 "metadata": {
  "kernelspec": {
   "display_name": "Python 3 (ipykernel)",
   "language": "python",
   "name": "python3"
  },
  "language_info": {
   "codemirror_mode": {
    "name": "ipython",
    "version": 3
   },
   "file_extension": ".py",
   "mimetype": "text/x-python",
   "name": "python",
   "nbconvert_exporter": "python",
   "pygments_lexer": "ipython3",
   "version": "3.8.12"
  }
 },
 "nbformat": 4,
 "nbformat_minor": 5
}
